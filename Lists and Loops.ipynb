{
 "cells": [
  {
   "cell_type": "code",
   "execution_count": null,
   "metadata": {},
   "outputs": [],
   "source": [
    "start = 0\n",
    "total_data=0\n",
    "sample_variance = 0\n",
    "data = [ ]\n",
    "\n",
    "while start < 1:\n",
    "    print (\"Write 0 to stop\")\n",
    "    value = float (input (\"Give me a value: \"))\n",
    "    data.append (value)\n",
    "    \n",
    "    if value ==0: \n",
    "        start += 1\n",
    "    total_data = len(data)-1\n",
    "    \n",
    "print(data)\n",
    "\n",
    "suma = 0\n",
    "for start in data:\n",
    "        suma += start\n",
    "print (suma)\n",
    "\n",
    "\n",
    "sample_mean = suma/total_data\n",
    "print (f\"The sample mean is= {sample_mean}\")\n",
    "\n",
    "\n",
    "for datas in data:\n",
    "    sample_variance += ((datas-sample_mean)**2)/ len(data)-1\n",
    "    \n",
    "print (f\"The sample variance is= {sample_variance}\")\n",
    "\n",
    "standard_deviation = (sample_variance)**0.5\n",
    "print ( f\"The Standard Deviation is= {standard_deviation}\")"
   ]
  },
  {
   "cell_type": "code",
   "execution_count": null,
   "metadata": {},
   "outputs": [],
   "source": []
  },
  {
   "cell_type": "code",
   "execution_count": null,
   "metadata": {},
   "outputs": [],
   "source": []
  }
 ],
 "metadata": {
  "kernelspec": {
   "display_name": "Python 3",
   "language": "python",
   "name": "python3"
  },
  "language_info": {
   "codemirror_mode": {
    "name": "ipython",
    "version": 3
   },
   "file_extension": ".py",
   "mimetype": "text/x-python",
   "name": "python",
   "nbconvert_exporter": "python",
   "pygments_lexer": "ipython3",
   "version": "3.8.3"
  }
 },
 "nbformat": 4,
 "nbformat_minor": 4
}
