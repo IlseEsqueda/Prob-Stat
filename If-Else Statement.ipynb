{
 "cells": [
  {
   "cell_type": "markdown",
   "metadata": {},
   "source": [
    "**If-Else Statement**\n",
    "\n",
    "Create a program in Python that ask for the grades of a user (math, statistics and electronics) and show different messages depending of the number of courses approved."
   ]
  },
  {
   "cell_type": "code",
   "execution_count": 6,
   "metadata": {},
   "outputs": [
    {
     "name": "stdout",
     "output_type": "stream",
     "text": [
      "What is your Math Grade? 70\n",
      "What is your Statistics Grade? 100\n",
      "What is your Electronics Grade? 60\n",
      "\n",
      "You should study a little more\n"
     ]
    }
   ],
   "source": [
    "Grade1 = int(input (\"What is your Math Grade? \"))\n",
    "Grade2 = int(input (\"What is your Statistics Grade? \"))\n",
    "Grade3 = int(input (\"What is your Electronics Grade? \"))\n",
    "Grade = 70\n",
    "\n",
    "\n",
    "if Grade1 >= Grade and Grade2 >= Grade and Grade3 >= Grade:\n",
    "    print(\"\\nYou are a good student\")\n",
    "    \n",
    "elif Grade1 <= Grade and Grade2 >= Grade and Grade3 >= Grade:\n",
    "    print(\"\\nYou should study a little more\")\n",
    "elif Grade1 >= Grade and Grade2 <= Grade and Grade3 >= Grade:\n",
    "    print(\"\\nYou should study a little more\")\n",
    "elif Grade1 >= Grade and Grade2 >= Grade and Grade3 <= Grade:\n",
    "    print(\"\\nYou should study a little more\")\n",
    "    \n",
    "elif Grade1 <= Grade and Grade2 <= Grade and Grade3 >= Grade:\n",
    "    print(\"\\nYou should take an extra classes to learn more\")\n",
    "elif Grade1 <= Grade and Grade2 >= Grade and Grade3 <= Grade:\n",
    "    print(\"\\nYou should take an extra classes to learn more\")\n",
    "elif Grade1 >= Grade and Grade2 <= Grade and Grade3 <= Grade:\n",
    "    print(\"\\nYou should take an extra classes to learn more\")\n",
    "    \n",
    "else:\n",
    "    print(\"\\nYou will fail, so you must study more\")\n"
   ]
  },
  {
   "cell_type": "code",
   "execution_count": null,
   "metadata": {},
   "outputs": [],
   "source": []
  }
 ],
 "metadata": {
  "kernelspec": {
   "display_name": "Python 3",
   "language": "python",
   "name": "python3"
  },
  "language_info": {
   "codemirror_mode": {
    "name": "ipython",
    "version": 3
   },
   "file_extension": ".py",
   "mimetype": "text/x-python",
   "name": "python",
   "nbconvert_exporter": "python",
   "pygments_lexer": "ipython3",
   "version": "3.8.3"
  }
 },
 "nbformat": 4,
 "nbformat_minor": 4
}
